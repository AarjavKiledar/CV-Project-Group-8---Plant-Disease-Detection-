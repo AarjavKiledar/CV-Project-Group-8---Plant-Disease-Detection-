{
 "cells": [
  {
   "cell_type": "markdown",
   "id": "3b7305e7",
   "metadata": {},
   "source": [
    "## Cell 1: Import Libraries\n"
   ]
  },
  {
   "cell_type": "code",
   "execution_count": null,
   "id": "1a768933",
   "metadata": {},
   "outputs": [],
   "source": [
    "import cv2\n",
    "import os\n",
    "import numpy as np\n",
    "from tqdm import tqdm"
   ]
  },
  {
   "cell_type": "markdown",
   "id": "1b64a981",
   "metadata": {},
   "source": [
    "## Cell 2: Setup Paths and Directories\n"
   ]
  },
  {
   "cell_type": "code",
   "execution_count": 4,
   "id": "bc3bb839",
   "metadata": {},
   "outputs": [],
   "source": [
    "# Define the input directory where your original dataset is located\n",
    "input_dir = \"C:\\CV Project\\Plant_leave_diseases_dataset_without_augmentation\\Plant_leave_diseases_dataset_without_augmentation\"        \n",
    "\n",
    "# Define the output directory to save the noise-reduced images\n",
    "output_dir = \"noise_reduced_dataset/\"\n",
    "\n",
    "# Create the output directory if it doesn't already exist\n",
    "os.makedirs(output_dir, exist_ok=True)"
   ]
  },
  {
   "cell_type": "markdown",
   "id": "5b7154c9",
   "metadata": {},
   "source": [
    "## Cell 3: Noise Reduction Function\n"
   ]
  },
  {
   "cell_type": "code",
   "execution_count": 5,
   "id": "dbe0cb4e",
   "metadata": {},
   "outputs": [],
   "source": [
    "def apply_noise_reduction(image):\n",
    "    \"\"\"\n",
    "    Applies a bilateral filter to reduce noise while preserving edges.\n",
    "    \n",
    "    Parameters for cv2.bilateralFilter:\n",
    "    - d: Diameter of each pixel neighborhood. A larger value means more pixels are included.\n",
    "    - sigmaColor: A larger value means more distant colors will be mixed together, resulting in larger areas of semi-equal color.\n",
    "    - sigmaSpace: A larger value means that pixels farther out from the center pixel will influence the filtering, as long as their colors are close enough.\n",
    "    \"\"\"\n",
    "    \n",
    "    # Apply the bilateral filter\n",
    "    filtered_image = cv2.bilateralFilter(image, d=9, sigmaColor=75, sigmaSpace=75)\n",
    "    \n",
    "    return filtered_image"
   ]
  },
  {
   "cell_type": "markdown",
   "id": "f3d5d126",
   "metadata": {},
   "source": [
    "## Cell 4: Main Processing Loop\n"
   ]
  },
  {
   "cell_type": "code",
   "execution_count": 6,
   "id": "aba9011b",
   "metadata": {},
   "outputs": [
    {
     "name": "stdout",
     "output_type": "stream",
     "text": [
      "\n",
      "Processing class: Tomato___Bacterial_spot\n"
     ]
    },
    {
     "name": "stderr",
     "output_type": "stream",
     "text": [
      "Filtering Tomato___Bacterial_spot: 100%|██████████| 2127/2127 [00:48<00:00, 43.44it/s]\n"
     ]
    },
    {
     "name": "stdout",
     "output_type": "stream",
     "text": [
      "\n",
      "Processing class: Tomato___Early_blight\n"
     ]
    },
    {
     "name": "stderr",
     "output_type": "stream",
     "text": [
      "Filtering Tomato___Early_blight: 100%|██████████| 1000/1000 [00:25<00:00, 38.79it/s]\n"
     ]
    },
    {
     "name": "stdout",
     "output_type": "stream",
     "text": [
      "\n",
      "Processing class: Tomato___healthy\n"
     ]
    },
    {
     "name": "stderr",
     "output_type": "stream",
     "text": [
      "Filtering Tomato___healthy: 100%|██████████| 1591/1591 [00:37<00:00, 42.31it/s]\n"
     ]
    },
    {
     "name": "stdout",
     "output_type": "stream",
     "text": [
      "\n",
      "Processing class: Tomato___Late_blight\n"
     ]
    },
    {
     "name": "stderr",
     "output_type": "stream",
     "text": [
      "Filtering Tomato___Late_blight: 100%|██████████| 1909/1909 [00:41<00:00, 45.86it/s]\n"
     ]
    },
    {
     "name": "stdout",
     "output_type": "stream",
     "text": [
      "\n",
      "Processing class: Tomato___Leaf_Mold\n"
     ]
    },
    {
     "name": "stderr",
     "output_type": "stream",
     "text": [
      "Filtering Tomato___Leaf_Mold: 100%|██████████| 952/952 [00:19<00:00, 48.87it/s]\n"
     ]
    },
    {
     "name": "stdout",
     "output_type": "stream",
     "text": [
      "\n",
      "Processing class: Tomato___Septoria_leaf_spot\n"
     ]
    },
    {
     "name": "stderr",
     "output_type": "stream",
     "text": [
      "Filtering Tomato___Septoria_leaf_spot: 100%|██████████| 1771/1771 [00:41<00:00, 42.69it/s]\n"
     ]
    },
    {
     "name": "stdout",
     "output_type": "stream",
     "text": [
      "\n",
      "Processing class: Tomato___Spider_mites Two-spotted_spider_mite\n"
     ]
    },
    {
     "name": "stderr",
     "output_type": "stream",
     "text": [
      "Filtering Tomato___Spider_mites Two-spotted_spider_mite: 100%|██████████| 1676/1676 [00:45<00:00, 36.85it/s]\n"
     ]
    },
    {
     "name": "stdout",
     "output_type": "stream",
     "text": [
      "\n",
      "Processing class: Tomato___Target_Spot\n"
     ]
    },
    {
     "name": "stderr",
     "output_type": "stream",
     "text": [
      "Filtering Tomato___Target_Spot: 100%|██████████| 1404/1404 [00:37<00:00, 37.88it/s]\n"
     ]
    },
    {
     "name": "stdout",
     "output_type": "stream",
     "text": [
      "\n",
      "Processing class: Tomato___Tomato_mosaic_virus\n"
     ]
    },
    {
     "name": "stderr",
     "output_type": "stream",
     "text": [
      "Filtering Tomato___Tomato_mosaic_virus: 100%|██████████| 373/373 [00:09<00:00, 38.87it/s]\n"
     ]
    },
    {
     "name": "stdout",
     "output_type": "stream",
     "text": [
      "\n",
      "Processing class: Tomato___Tomato_Yellow_Leaf_Curl_Virus\n"
     ]
    },
    {
     "name": "stderr",
     "output_type": "stream",
     "text": [
      "Filtering Tomato___Tomato_Yellow_Leaf_Curl_Virus: 100%|██████████| 5357/5357 [02:12<00:00, 40.28it/s]"
     ]
    },
    {
     "name": "stdout",
     "output_type": "stream",
     "text": [
      "\n",
      "\n",
      "✅ All images have been processed and saved to the 'noise_reduced_dataset' directory.\n"
     ]
    },
    {
     "name": "stderr",
     "output_type": "stream",
     "text": [
      "\n"
     ]
    }
   ],
   "source": [
    "# Iterate over each class (sub-folder) in the input directory\n",
    "for class_name in os.listdir(input_dir):\n",
    "    class_path = os.path.join(input_dir, class_name)\n",
    "    \n",
    "    # Skip any files that are not directories\n",
    "    if not os.path.isdir(class_path):\n",
    "        continue\n",
    "        \n",
    "    save_class_path = os.path.join(output_dir, class_name)\n",
    "    os.makedirs(save_class_path, exist_ok=True)\n",
    "    \n",
    "    print(f\"\\nProcessing class: {class_name}\")\n",
    "\n",
    "    # Get a list of all image files in the current class folder\n",
    "    images = [f for f in os.listdir(class_path) if f.lower().endswith(('.jpg', '.png', '.jpeg'))]\n",
    "\n",
    "    # Process each image in the folder with a progress bar\n",
    "    for img_name in tqdm(images, desc=f\"Filtering {class_name}\"):\n",
    "        # Construct the full path to the image\n",
    "        img_path = os.path.join(class_path, img_name)\n",
    "        \n",
    "        # Read the image\n",
    "        image = cv2.imread(img_path)\n",
    "        \n",
    "        # Ensure the image was read correctly\n",
    "        if image is not None:\n",
    "            # Apply the noise reduction filter\n",
    "            clean_image = apply_noise_reduction(image)\n",
    "            \n",
    "            # Construct the full save path for the cleaned image\n",
    "            save_path = os.path.join(save_class_path, img_name)\n",
    "            \n",
    "            # Save the cleaned image\n",
    "            cv2.imwrite(save_path, clean_image)\n",
    "\n",
    "print(\"\\n\\n✅ All images have been processed and saved to the 'noise_reduced_dataset' directory.\")"
   ]
  },
  {
   "cell_type": "markdown",
   "id": "6e5334ca",
   "metadata": {},
   "source": [
    "## Cell 5: Gaussian Filter Function 💧\n"
   ]
  },
  {
   "cell_type": "code",
   "execution_count": 9,
   "id": "37cc0f2f",
   "metadata": {},
   "outputs": [],
   "source": [
    "def apply_gaussian_filter(image):\n",
    "    \"\"\"\n",
    "    Applies a Gaussian filter to blur the image and reduce noise.\n",
    "    \n",
    "    Parameters for cv2.GaussianBlur:\n",
    "    - ksize (Kernel Size): A tuple of positive odd integers, e.g., (5, 5).\n",
    "      A larger kernel size results in more blur.\n",
    "    - sigmaX: Set to 0 to be calculated automatically from the kernel size.\n",
    "    \"\"\"\n",
    "    # Apply the Gaussian filter with a 5x5 kernel\n",
    "    filtered_image = cv2.GaussianBlur(image, (5, 5), 0)\n",
    "    \n",
    "    return filtered_image"
   ]
  },
  {
   "cell_type": "markdown",
   "id": "6ea5bdb8",
   "metadata": {},
   "source": [
    "## Cell 6: Main Processing Loop\n"
   ]
  },
  {
   "cell_type": "code",
   "execution_count": 11,
   "id": "534197fc",
   "metadata": {},
   "outputs": [
    {
     "name": "stdout",
     "output_type": "stream",
     "text": [
      "\n",
      "Processing class: Tomato___Bacterial_spot\n"
     ]
    },
    {
     "name": "stderr",
     "output_type": "stream",
     "text": [
      "Filtering Tomato___Bacterial_spot: 100%|██████████| 2127/2127 [00:28<00:00, 74.53it/s] \n"
     ]
    },
    {
     "name": "stdout",
     "output_type": "stream",
     "text": [
      "\n",
      "Processing class: Tomato___Early_blight\n"
     ]
    },
    {
     "name": "stderr",
     "output_type": "stream",
     "text": [
      "Filtering Tomato___Early_blight: 100%|██████████| 1000/1000 [00:07<00:00, 139.52it/s]\n"
     ]
    },
    {
     "name": "stdout",
     "output_type": "stream",
     "text": [
      "\n",
      "Processing class: Tomato___healthy\n"
     ]
    },
    {
     "name": "stderr",
     "output_type": "stream",
     "text": [
      "Filtering Tomato___healthy: 100%|██████████| 1591/1591 [00:05<00:00, 273.95it/s]\n"
     ]
    },
    {
     "name": "stdout",
     "output_type": "stream",
     "text": [
      "\n",
      "Processing class: Tomato___Late_blight\n"
     ]
    },
    {
     "name": "stderr",
     "output_type": "stream",
     "text": [
      "Filtering Tomato___Late_blight: 100%|██████████| 1909/1909 [00:06<00:00, 293.71it/s]\n"
     ]
    },
    {
     "name": "stdout",
     "output_type": "stream",
     "text": [
      "\n",
      "Processing class: Tomato___Leaf_Mold\n"
     ]
    },
    {
     "name": "stderr",
     "output_type": "stream",
     "text": [
      "Filtering Tomato___Leaf_Mold: 100%|██████████| 952/952 [00:03<00:00, 296.01it/s]\n"
     ]
    },
    {
     "name": "stdout",
     "output_type": "stream",
     "text": [
      "\n",
      "Processing class: Tomato___Septoria_leaf_spot\n"
     ]
    },
    {
     "name": "stderr",
     "output_type": "stream",
     "text": [
      "Filtering Tomato___Septoria_leaf_spot: 100%|██████████| 1771/1771 [00:06<00:00, 264.82it/s]\n"
     ]
    },
    {
     "name": "stdout",
     "output_type": "stream",
     "text": [
      "\n",
      "Processing class: Tomato___Spider_mites Two-spotted_spider_mite\n"
     ]
    },
    {
     "name": "stderr",
     "output_type": "stream",
     "text": [
      "Filtering Tomato___Spider_mites Two-spotted_spider_mite: 100%|██████████| 1676/1676 [00:05<00:00, 317.28it/s]\n"
     ]
    },
    {
     "name": "stdout",
     "output_type": "stream",
     "text": [
      "\n",
      "Processing class: Tomato___Target_Spot\n"
     ]
    },
    {
     "name": "stderr",
     "output_type": "stream",
     "text": [
      "Filtering Tomato___Target_Spot: 100%|██████████| 1404/1404 [00:03<00:00, 357.87it/s]\n"
     ]
    },
    {
     "name": "stdout",
     "output_type": "stream",
     "text": [
      "\n",
      "Processing class: Tomato___Tomato_mosaic_virus\n"
     ]
    },
    {
     "name": "stderr",
     "output_type": "stream",
     "text": [
      "Filtering Tomato___Tomato_mosaic_virus: 100%|██████████| 373/373 [00:01<00:00, 365.55it/s]\n"
     ]
    },
    {
     "name": "stdout",
     "output_type": "stream",
     "text": [
      "\n",
      "Processing class: Tomato___Tomato_Yellow_Leaf_Curl_Virus\n"
     ]
    },
    {
     "name": "stderr",
     "output_type": "stream",
     "text": [
      "Filtering Tomato___Tomato_Yellow_Leaf_Curl_Virus: 100%|██████████| 5357/5357 [00:14<00:00, 381.71it/s]"
     ]
    },
    {
     "name": "stdout",
     "output_type": "stream",
     "text": [
      "\n",
      "\n",
      "✅ All images have been processed and saved to the output directory.\n"
     ]
    },
    {
     "name": "stderr",
     "output_type": "stream",
     "text": [
      "\n"
     ]
    }
   ],
   "source": [
    "# Iterate over each class (sub-folder) in the input directory\n",
    "for class_name in os.listdir(input_dir):\n",
    "    class_path = os.path.join(input_dir, class_name)\n",
    "    \n",
    "    # Skip any files that are not directories\n",
    "    if not os.path.isdir(class_path):\n",
    "        continue\n",
    "        \n",
    "    save_class_path = os.path.join(output_dir, class_name)\n",
    "    os.makedirs(save_class_path, exist_ok=True)\n",
    "    \n",
    "    print(f\"\\nProcessing class: {class_name}\")\n",
    "\n",
    "    # Get a list of all image files in the current class folder\n",
    "    images = [f for f in os.listdir(class_path) if f.lower().endswith(('.jpg', '.png', '.jpeg'))]\n",
    "\n",
    "    # Process each image in the folder with a progress bar\n",
    "    for img_name in tqdm(images, desc=f\"Filtering {class_name}\"):\n",
    "        # Construct the full path to the image\n",
    "        img_path = os.path.join(class_path, img_name)\n",
    "        \n",
    "        # Read the image\n",
    "        image = cv2.imread(img_path)\n",
    "        \n",
    "        # Ensure the image was read correctly\n",
    "        if image is not None:\n",
    "            # Apply the Gaussian noise reduction filter\n",
    "            clean_image = apply_gaussian_filter(image)\n",
    "            \n",
    "            # Construct the full save path for the cleaned image\n",
    "            save_path = os.path.join(save_class_path, img_name)\n",
    "            \n",
    "            # Save the cleaned image\n",
    "            cv2.imwrite(save_path, clean_image)\n",
    "\n",
    "print(\"\\n\\n✅ All images have been processed and saved to the output directory.\")"
   ]
  }
 ],
 "metadata": {
  "kernelspec": {
   "display_name": "dl_env",
   "language": "python",
   "name": "python3"
  },
  "language_info": {
   "codemirror_mode": {
    "name": "ipython",
    "version": 3
   },
   "file_extension": ".py",
   "mimetype": "text/x-python",
   "name": "python",
   "nbconvert_exporter": "python",
   "pygments_lexer": "ipython3",
   "version": "3.10.18"
  }
 },
 "nbformat": 4,
 "nbformat_minor": 5
}
