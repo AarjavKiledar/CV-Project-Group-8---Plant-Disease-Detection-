{
 "cells": [
  {
   "cell_type": "code",
   "execution_count": 3,
   "id": "3122bc9f",
   "metadata": {},
   "outputs": [
    {
     "name": "stdout",
     "output_type": "stream",
     "text": [
      "Note: you may need to restart the kernel to use updated packages.\n"
     ]
    }
   ],
   "source": [
    "%pip freeze > requirements.txt"
   ]
  },
  {
   "cell_type": "code",
   "execution_count": 4,
   "id": "c9522671",
   "metadata": {},
   "outputs": [],
   "source": [
    "import cv2\n",
    "import os\n",
    "import numpy as np\n",
    "import matplotlib.pyplot as plt\n",
    "from tqdm import tqdm"
   ]
  },
  {
   "cell_type": "code",
   "execution_count": 5,
   "id": "72673038",
   "metadata": {},
   "outputs": [],
   "source": [
    "IMG_SIZE = 256\n",
    "input_dir = \"Plant_leave_diseases_dataset_without_augmentation\"        # Original dataset path\n",
    "output_dir = \"augmented_dataset/\"   # Augmented dataset path\n",
    "target_count = 3000  # Desired number of images per class\n",
    "os.makedirs(output_dir, exist_ok=True)"
   ]
  },
  {
   "cell_type": "code",
   "execution_count": 6,
   "id": "84e6d171",
   "metadata": {},
   "outputs": [],
   "source": [
    "def preprocess(image):\n",
    "    \"\"\"Resize and normalize image to [0,1].\"\"\"\n",
    "    image = cv2.resize(image, (IMG_SIZE, IMG_SIZE))\n",
    "    # image = image.astype(\"float32\") / 255.0\n",
    "    return image"
   ]
  },
  {
   "cell_type": "code",
   "execution_count": 7,
   "id": "aa7d968f",
   "metadata": {},
   "outputs": [],
   "source": [
    "def random_rotation(image, angle_range=45):\n",
    "    h, w = image.shape[:2]\n",
    "    angle = np.random.uniform(-angle_range, angle_range)\n",
    "    M = cv2.getRotationMatrix2D((w/2, h/2), angle, 1)\n",
    "    return cv2.warpAffine(image, M, (w, h))"
   ]
  },
  {
   "cell_type": "code",
   "execution_count": 8,
   "id": "7b227976",
   "metadata": {},
   "outputs": [],
   "source": [
    "def random_translation(image, max_shift=0.2):\n",
    "    h, w = image.shape[:2]\n",
    "    tx = np.random.uniform(-max_shift, max_shift) * w\n",
    "    ty = np.random.uniform(-max_shift, max_shift) * h\n",
    "    M = np.float32([[1, 0, tx], [0, 1, ty]])\n",
    "    return cv2.warpAffine(image, M, (w, h))"
   ]
  },
  {
   "cell_type": "code",
   "execution_count": 9,
   "id": "cbfbd5e6",
   "metadata": {},
   "outputs": [],
   "source": [
    "def random_shear(image, shear_range=15):\n",
    "    h, w = image.shape[:2]\n",
    "    pts1 = np.float32([[5,5],[w-5,5],[5,h-5]])\n",
    "    pt1 = 5 + np.random.randint(-shear_range, shear_range)\n",
    "    pt2 = 5 + np.random.randint(-shear_range, shear_range)\n",
    "    pts2 = np.float32([[pt1,pt2],[w-pt1,5],[5,h-pt2]])\n",
    "    M = cv2.getAffineTransform(pts1,pts2)\n",
    "    return cv2.warpAffine(image,M,(w,h))"
   ]
  },
  {
   "cell_type": "code",
   "execution_count": 10,
   "id": "d312125e",
   "metadata": {},
   "outputs": [],
   "source": [
    "def random_crop(image, crop_scale=0.8):\n",
    "    h, w = image.shape[:2]\n",
    "    new_h, new_w = int(h * crop_scale), int(w * crop_scale)\n",
    "    top = np.random.randint(0, h - new_h)\n",
    "    left = np.random.randint(0, w - new_w)\n",
    "    cropped = image[top:top+new_h, left:left+new_w]\n",
    "    return cv2.resize(cropped, (w, h))"
   ]
  },
  {
   "cell_type": "code",
   "execution_count": 11,
   "id": "dde2e11a",
   "metadata": {},
   "outputs": [],
   "source": [
    "def augment_image(image):\n",
    "    ops = [\n",
    "        lambda x: random_rotation(x),\n",
    "        lambda x: cv2.flip(x, 1),   # Horizontal Flip\n",
    "        lambda x: cv2.flip(x, 0),   # Vertical Flip\n",
    "        lambda x: random_translation(x),\n",
    "        lambda x: random_shear(x),\n",
    "        lambda x: random_crop(x)\n",
    "    ]\n",
    "    op = np.random.choice(ops)  # pick random transformation\n",
    "    return op(image)"
   ]
  },
  {
   "cell_type": "code",
   "execution_count": 12,
   "id": "81c7aa5c",
   "metadata": {},
   "outputs": [
    {
     "name": "stdout",
     "output_type": "stream",
     "text": [
      "\n",
      "Processing Tomato___Bacterial_spot (current: 2127, target: 3000)\n"
     ]
    },
    {
     "name": "stderr",
     "output_type": "stream",
     "text": [
      "Augmenting Tomato___Bacterial_spot: 100%|██████████| 873/873 [00:01<00:00, 595.54it/s]\n"
     ]
    },
    {
     "name": "stdout",
     "output_type": "stream",
     "text": [
      "\n",
      "Processing Tomato___Early_blight (current: 1000, target: 3000)\n"
     ]
    },
    {
     "name": "stderr",
     "output_type": "stream",
     "text": [
      "Augmenting Tomato___Early_blight: 100%|██████████| 2000/2000 [00:02<00:00, 761.30it/s]\n"
     ]
    },
    {
     "name": "stdout",
     "output_type": "stream",
     "text": [
      "\n",
      "Processing Tomato___healthy (current: 1591, target: 3000)\n"
     ]
    },
    {
     "name": "stderr",
     "output_type": "stream",
     "text": [
      "Augmenting Tomato___healthy: 100%|██████████| 1409/1409 [00:02<00:00, 699.41it/s]\n"
     ]
    },
    {
     "name": "stdout",
     "output_type": "stream",
     "text": [
      "\n",
      "Processing Tomato___Late_blight (current: 1909, target: 3000)\n"
     ]
    },
    {
     "name": "stderr",
     "output_type": "stream",
     "text": [
      "Augmenting Tomato___Late_blight: 100%|██████████| 1091/1091 [00:01<00:00, 730.25it/s]\n"
     ]
    },
    {
     "name": "stdout",
     "output_type": "stream",
     "text": [
      "\n",
      "Processing Tomato___Leaf_Mold (current: 952, target: 3000)\n"
     ]
    },
    {
     "name": "stderr",
     "output_type": "stream",
     "text": [
      "Augmenting Tomato___Leaf_Mold: 100%|██████████| 2048/2048 [00:02<00:00, 756.30it/s]\n"
     ]
    },
    {
     "name": "stdout",
     "output_type": "stream",
     "text": [
      "\n",
      "Processing Tomato___Septoria_leaf_spot (current: 1771, target: 3000)\n"
     ]
    },
    {
     "name": "stderr",
     "output_type": "stream",
     "text": [
      "Augmenting Tomato___Septoria_leaf_spot: 100%|██████████| 1229/1229 [00:01<00:00, 751.92it/s]\n"
     ]
    },
    {
     "name": "stdout",
     "output_type": "stream",
     "text": [
      "\n",
      "Processing Tomato___Spider_mites Two-spotted_spider_mite (current: 1676, target: 3000)\n"
     ]
    },
    {
     "name": "stderr",
     "output_type": "stream",
     "text": [
      "Augmenting Tomato___Spider_mites Two-spotted_spider_mite: 100%|██████████| 1324/1324 [00:01<00:00, 733.85it/s]\n"
     ]
    },
    {
     "name": "stdout",
     "output_type": "stream",
     "text": [
      "\n",
      "Processing Tomato___Target_Spot (current: 1404, target: 3000)\n"
     ]
    },
    {
     "name": "stderr",
     "output_type": "stream",
     "text": [
      "Augmenting Tomato___Target_Spot: 100%|██████████| 1596/1596 [00:02<00:00, 728.43it/s]\n"
     ]
    },
    {
     "name": "stdout",
     "output_type": "stream",
     "text": [
      "\n",
      "Processing Tomato___Tomato_mosaic_virus (current: 373, target: 3000)\n"
     ]
    },
    {
     "name": "stderr",
     "output_type": "stream",
     "text": [
      "Augmenting Tomato___Tomato_mosaic_virus: 100%|██████████| 2627/2627 [00:03<00:00, 739.46it/s]\n"
     ]
    },
    {
     "name": "stdout",
     "output_type": "stream",
     "text": [
      "\n",
      "Processing Tomato___Tomato_Yellow_Leaf_Curl_Virus (current: 5357, target: 3000)\n"
     ]
    },
    {
     "name": "stderr",
     "output_type": "stream",
     "text": [
      "Augmenting Tomato___Tomato_Yellow_Leaf_Curl_Virus: 0it [00:00, ?it/s]\n"
     ]
    }
   ],
   "source": [
    "for class_name in os.listdir(input_dir):\n",
    "    class_path = os.path.join(input_dir, class_name)\n",
    "    save_class_path = os.path.join(output_dir, class_name)\n",
    "    os.makedirs(save_class_path, exist_ok=True)\n",
    "\n",
    "    images = [f for f in os.listdir(class_path) if f.lower().endswith(('.jpg', '.png', '.jpeg'))]\n",
    "    count_existing = len(images)\n",
    "\n",
    "    print(f\"\\nProcessing {class_name} (current: {count_existing}, target: {target_count})\")\n",
    "\n",
    "    # Copy original images first\n",
    "    for img_name in images:\n",
    "        img_path = os.path.join(class_path, img_name)\n",
    "        image = cv2.imread(img_path)\n",
    "        if image is not None:\n",
    "            cv2.imwrite(os.path.join(save_class_path, img_name), image)\n",
    "    \n",
    "    # Augment until reaching target_count\n",
    "    idx = 0\n",
    "    pbar = tqdm(total=target_count - count_existing, desc=f\"Augmenting {class_name}\")\n",
    "    while count_existing < target_count:\n",
    "        img_name = images[idx % len(images)]  # cycle through originals\n",
    "        img_path = os.path.join(class_path, img_name)\n",
    "        image = cv2.imread(img_path)\n",
    "        if image is None:\n",
    "            idx += 1\n",
    "            continue\n",
    "\n",
    "        aug_img = augment_image(image)\n",
    "        save_name = f\"{os.path.splitext(img_name)[0]}_aug_{count_existing}.jpg\"\n",
    "        save_path = os.path.join(save_class_path, save_name)\n",
    "        cv2.imwrite(save_path, aug_img)\n",
    "\n",
    "        count_existing += 1\n",
    "        idx += 1\n",
    "        pbar.update(1)\n",
    "    pbar.close()    "
   ]
  },
  {
   "cell_type": "markdown",
   "id": "9341e4ba",
   "metadata": {},
   "source": [
    "🌱 Geometric Transformations in Plant Disease Detection\n",
    "\n",
    "In our project, we apply a series of geometric image transformations to expand the dataset and improve the robustness of our CNN model.\n",
    "\n",
    "1. Rotation\n",
    "\n",
    "The leaf can appear at any angle when photographed.\n",
    "\n",
    "Random rotation ensures the model learns to recognize disease patterns regardless of orientation.\n",
    "\n",
    "2. Horizontal Flip\n",
    "\n",
    "Simulates the scenario where a leaf is turned left or right.\n",
    "\n",
    "Helps the model become invariant to left–right orientation.\n",
    "\n",
    "3. Vertical Flip\n",
    "\n",
    "Covers cases where a leaf might be captured upside down.\n",
    "\n",
    "Increases diversity in orientation.\n",
    "\n",
    "4. Translation (Shifting)\n",
    "\n",
    "Mimics leaves that are off-center in the image.\n",
    "\n",
    "Makes the model robust to disease spots appearing at different positions.\n",
    "\n",
    "5. Scaling / Resizing\n",
    "\n",
    "Represents zoom-in and zoom-out variations of leaf images.\n",
    "\n",
    "Ensures the model learns from both close-up disease patches and full-leaf views.\n",
    "\n",
    "6. Shearing (Affine Distortion)\n",
    "\n",
    "Simulates perspective distortion when leaves are not flat or are photographed at an angle.\n",
    "\n",
    "Improves the model’s ability to generalize to real-world photos.\n",
    "\n",
    "🌾 Why These Transformations Help\n",
    "\n",
    "Increase the size of the dataset without collecting new images.\n",
    "\n",
    "Prevent the CNN from overfitting to fixed orientations or positions.\n",
    "\n",
    "Make the model robust to real-world conditions where farmers may capture leaves at different angles, zoom levels, and perspectives.\n",
    "\n",
    "Ultimately, they improve generalization and accuracy in plant disease classification."
   ]
  }
 ],
 "metadata": {
  "kernelspec": {
   "display_name": ".venv",
   "language": "python",
   "name": "python3"
  },
  "language_info": {
   "codemirror_mode": {
    "name": "ipython",
    "version": 3
   },
   "file_extension": ".py",
   "mimetype": "text/x-python",
   "name": "python",
   "nbconvert_exporter": "python",
   "pygments_lexer": "ipython3",
   "version": "3.11.0"
  }
 },
 "nbformat": 4,
 "nbformat_minor": 5
}
